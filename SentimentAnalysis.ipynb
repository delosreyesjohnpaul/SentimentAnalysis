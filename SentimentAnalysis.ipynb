{
 "cells": [
  {
   "cell_type": "code",
   "execution_count": 1,
   "id": "4b25cdfb",
   "metadata": {},
   "outputs": [
    {
     "name": "stderr",
     "output_type": "stream",
     "text": [
      "[nltk_data] Downloading package stopwords to\n",
      "[nltk_data]     C:\\Users\\AdMin\\AppData\\Roaming\\nltk_data...\n",
      "[nltk_data]   Package stopwords is already up-to-date!\n"
     ]
    },
    {
     "data": {
      "text/plain": [
       "True"
      ]
     },
     "execution_count": 1,
     "metadata": {},
     "output_type": "execute_result"
    }
   ],
   "source": [
    "import pandas as pd\n",
    "from textblob import TextBlob\n",
    "from vaderSentiment.vaderSentiment import SentimentIntensityAnalyzer\n",
    "from transformers import pipeline\n",
    "import nltk  # For advanced preprocessing\n",
    "nltk.download('stopwords')\n"
   ]
  },
  {
   "cell_type": "code",
   "execution_count": 2,
   "id": "6ca0b499",
   "metadata": {},
   "outputs": [],
   "source": [
    "# Enhanced preprocessing function\n",
    "def preprocess_text(text):\n",
    "    tokens = nltk.word_tokenize(text)  # Custom tokenization\n",
    "    stop_words = set(nltk.corpus.stopwords.words(\"english\")) - {\"not\", \"never\", \"no\"}\n",
    "    tokens = [token for token in tokens if token.lower() not in stop_words]\n",
    "    # Optional stemming or lemmatization (use judiciously)\n",
    "    return \" \".join(tokens)\n"
   ]
  },
  {
   "cell_type": "code",
   "execution_count": 3,
   "id": "2d2ef90a",
   "metadata": {},
   "outputs": [],
   "source": [
    "# Choose your preferred sentiment analysis method:\n",
    "analyzer = SentimentIntensityAnalyzer()  # VADER\n",
    "# analyzer = pipeline(\"sentiment-analysis\")  # Transformer-based"
   ]
  },
  {
   "cell_type": "code",
   "execution_count": 4,
   "id": "9d6a8e41",
   "metadata": {},
   "outputs": [
    {
     "name": "stdout",
     "output_type": "stream",
     "text": [
      "Enter text to analyze (or type 'quit' to exit): damn this bastard this retarded bitch\n",
      "Sentiment: Negative\n",
      "Scores: {'neg': 1.0, 'neu': 0.0, 'pos': 0.0, 'compound': -0.9287}\n",
      "--------------------------------------------------\n",
      "Enter text to analyze (or type 'quit' to exit): fuck this world this madafucker\n",
      "Sentiment: Negative\n",
      "Scores: {'neg': 0.636, 'neu': 0.364, 'pos': 0.0, 'compound': -0.5423}\n",
      "--------------------------------------------------\n",
      "Enter text to analyze (or type 'quit' to exit): i love to sing and sing \n",
      "Sentiment: Positive\n",
      "Scores: {'neg': 0.0, 'neu': 0.323, 'pos': 0.677, 'compound': 0.6369}\n",
      "--------------------------------------------------\n",
      "Enter text to analyze (or type 'quit' to exit): love you\n",
      "Sentiment: Positive\n",
      "Scores: {'neg': 0.0, 'neu': 0.0, 'pos': 1.0, 'compound': 0.6369}\n",
      "--------------------------------------------------\n",
      "Enter text to analyze (or type 'quit' to exit): hahahaha this shit is amazing\n",
      "Sentiment: Neutral\n",
      "Scores: {'neg': 0.429, 'neu': 0.119, 'pos': 0.452, 'compound': 0.0516}\n",
      "--------------------------------------------------\n",
      "Enter text to analyze (or type 'quit' to exit): quit \n"
     ]
    }
   ],
   "source": [
    "while True:\n",
    "    text = preprocess_text(input(\"Enter text to analyze (or type 'quit' to exit): \"))\n",
    "    if text.lower() == \"quit\":\n",
    "        break\n",
    "\n",
    "    if isinstance(analyzer, SentimentIntensityAnalyzer):\n",
    "        scores = analyzer.polarity_scores(text)\n",
    "        compound_score = scores[\"compound\"]\n",
    "\n",
    "        # Adjusted thresholds for VADER\n",
    "        if compound_score >= 0.1:\n",
    "            sentiment = \"Positive\"\n",
    "        elif compound_score <= -0.1:\n",
    "            sentiment = \"Negative\"\n",
    "        else:\n",
    "            sentiment = \"Neutral\"\n",
    "\n",
    "        print(\"Sentiment:\", sentiment)\n",
    "        print(\"Scores:\", scores)\n",
    "    else:\n",
    "        # Transformer-based analysis (consider fine-tuning if applicable)\n",
    "        sentiment = analyzer(text)[0]\n",
    "        print(\"Sentiment:\", sentiment[\"label\"])\n",
    "        print(\"Score:\", sentiment[\"score\"])\n",
    "\n",
    "    print(\"-\" * 50)  # Separator between analyses\n"
   ]
  },
  {
   "cell_type": "code",
   "execution_count": null,
   "id": "c69cc4bf",
   "metadata": {},
   "outputs": [],
   "source": []
  }
 ],
 "metadata": {
  "kernelspec": {
   "display_name": "Python 3 (ipykernel)",
   "language": "python",
   "name": "python3"
  },
  "language_info": {
   "codemirror_mode": {
    "name": "ipython",
    "version": 3
   },
   "file_extension": ".py",
   "mimetype": "text/x-python",
   "name": "python",
   "nbconvert_exporter": "python",
   "pygments_lexer": "ipython3",
   "version": "3.11.5"
  }
 },
 "nbformat": 4,
 "nbformat_minor": 5
}
